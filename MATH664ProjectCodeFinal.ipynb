{
 "cells": [
  {
   "cell_type": "markdown",
   "metadata": {},
   "source": [
    "# Reading In Data File"
   ]
  },
  {
   "cell_type": "code",
   "execution_count": 1,
   "metadata": {
    "id": "y3NobFq6q0c5"
   },
   "outputs": [],
   "source": [
    "import pandas as pd\n",
    "import numpy as np\n",
    "import seaborn as sns\n",
    "import matplotlib.pyplot as plt\n",
    "%matplotlib inline\n",
    "\n",
    "from sklearn.preprocessing import LabelEncoder, OneHotEncoder\n",
    "from sklearn.model_selection import KFold, train_test_split, GridSearchCV\n",
    "from sklearn.linear_model import LinearRegression\n",
    "from sklearn.ensemble import RandomForestRegressor\n",
    "from sklearn import metrics\n",
    "\n",
    "import pylab as py\n",
    "import statsmodels.api as sm\n",
    "import statsmodels.formula.api as smf"
   ]
  },
  {
   "cell_type": "code",
   "execution_count": 2,
   "metadata": {
    "id": "iAOCM7UWpvIC"
   },
   "outputs": [],
   "source": [
    "df = pd.read_csv(\"ds_salaries.csv\")"
   ]
  },
  {
   "cell_type": "code",
   "execution_count": 3,
   "metadata": {
    "colab": {
     "base_uri": "https://localhost:8080/",
     "height": 206
    },
    "id": "IJ0SBGatrJVH",
    "outputId": "073f847d-0c5c-4a4d-96b9-8111c70c44e1"
   },
   "outputs": [
    {
     "data": {
      "text/html": [
       "<div>\n",
       "<style scoped>\n",
       "    .dataframe tbody tr th:only-of-type {\n",
       "        vertical-align: middle;\n",
       "    }\n",
       "\n",
       "    .dataframe tbody tr th {\n",
       "        vertical-align: top;\n",
       "    }\n",
       "\n",
       "    .dataframe thead th {\n",
       "        text-align: right;\n",
       "    }\n",
       "</style>\n",
       "<table border=\"1\" class=\"dataframe\">\n",
       "  <thead>\n",
       "    <tr style=\"text-align: right;\">\n",
       "      <th></th>\n",
       "      <th>work_year</th>\n",
       "      <th>experience_level</th>\n",
       "      <th>employment_type</th>\n",
       "      <th>job_title</th>\n",
       "      <th>salary</th>\n",
       "      <th>salary_currency</th>\n",
       "      <th>salary_in_usd</th>\n",
       "      <th>employee_residence</th>\n",
       "      <th>remote_ratio</th>\n",
       "      <th>company_location</th>\n",
       "      <th>company_size</th>\n",
       "    </tr>\n",
       "  </thead>\n",
       "  <tbody>\n",
       "    <tr>\n",
       "      <th>0</th>\n",
       "      <td>2023</td>\n",
       "      <td>SE</td>\n",
       "      <td>FT</td>\n",
       "      <td>Principal Data Scientist</td>\n",
       "      <td>80000</td>\n",
       "      <td>EUR</td>\n",
       "      <td>85847</td>\n",
       "      <td>ES</td>\n",
       "      <td>100</td>\n",
       "      <td>ES</td>\n",
       "      <td>L</td>\n",
       "    </tr>\n",
       "    <tr>\n",
       "      <th>1</th>\n",
       "      <td>2023</td>\n",
       "      <td>MI</td>\n",
       "      <td>CT</td>\n",
       "      <td>ML Engineer</td>\n",
       "      <td>30000</td>\n",
       "      <td>USD</td>\n",
       "      <td>30000</td>\n",
       "      <td>US</td>\n",
       "      <td>100</td>\n",
       "      <td>US</td>\n",
       "      <td>S</td>\n",
       "    </tr>\n",
       "    <tr>\n",
       "      <th>2</th>\n",
       "      <td>2023</td>\n",
       "      <td>MI</td>\n",
       "      <td>CT</td>\n",
       "      <td>ML Engineer</td>\n",
       "      <td>25500</td>\n",
       "      <td>USD</td>\n",
       "      <td>25500</td>\n",
       "      <td>US</td>\n",
       "      <td>100</td>\n",
       "      <td>US</td>\n",
       "      <td>S</td>\n",
       "    </tr>\n",
       "    <tr>\n",
       "      <th>3</th>\n",
       "      <td>2023</td>\n",
       "      <td>SE</td>\n",
       "      <td>FT</td>\n",
       "      <td>Data Scientist</td>\n",
       "      <td>175000</td>\n",
       "      <td>USD</td>\n",
       "      <td>175000</td>\n",
       "      <td>CA</td>\n",
       "      <td>100</td>\n",
       "      <td>CA</td>\n",
       "      <td>M</td>\n",
       "    </tr>\n",
       "    <tr>\n",
       "      <th>4</th>\n",
       "      <td>2023</td>\n",
       "      <td>SE</td>\n",
       "      <td>FT</td>\n",
       "      <td>Data Scientist</td>\n",
       "      <td>120000</td>\n",
       "      <td>USD</td>\n",
       "      <td>120000</td>\n",
       "      <td>CA</td>\n",
       "      <td>100</td>\n",
       "      <td>CA</td>\n",
       "      <td>M</td>\n",
       "    </tr>\n",
       "  </tbody>\n",
       "</table>\n",
       "</div>"
      ],
      "text/plain": [
       "   work_year experience_level employment_type                 job_title  \\\n",
       "0       2023               SE              FT  Principal Data Scientist   \n",
       "1       2023               MI              CT               ML Engineer   \n",
       "2       2023               MI              CT               ML Engineer   \n",
       "3       2023               SE              FT            Data Scientist   \n",
       "4       2023               SE              FT            Data Scientist   \n",
       "\n",
       "   salary salary_currency  salary_in_usd employee_residence  remote_ratio  \\\n",
       "0   80000             EUR          85847                 ES           100   \n",
       "1   30000             USD          30000                 US           100   \n",
       "2   25500             USD          25500                 US           100   \n",
       "3  175000             USD         175000                 CA           100   \n",
       "4  120000             USD         120000                 CA           100   \n",
       "\n",
       "  company_location company_size  \n",
       "0               ES            L  \n",
       "1               US            S  \n",
       "2               US            S  \n",
       "3               CA            M  \n",
       "4               CA            M  "
      ]
     },
     "execution_count": 3,
     "metadata": {},
     "output_type": "execute_result"
    }
   ],
   "source": [
    "df.head()"
   ]
  },
  {
   "cell_type": "code",
   "execution_count": 4,
   "metadata": {
    "colab": {
     "base_uri": "https://localhost:8080/"
    },
    "id": "b3G6kLi8Hm0a",
    "outputId": "3fd94829-e925-46e9-8555-dad512d9cf19"
   },
   "outputs": [
    {
     "name": "stdout",
     "output_type": "stream",
     "text": [
      "<class 'pandas.core.frame.DataFrame'>\n",
      "RangeIndex: 3755 entries, 0 to 3754\n",
      "Data columns (total 11 columns):\n",
      " #   Column              Non-Null Count  Dtype \n",
      "---  ------              --------------  ----- \n",
      " 0   work_year           3755 non-null   int64 \n",
      " 1   experience_level    3755 non-null   object\n",
      " 2   employment_type     3755 non-null   object\n",
      " 3   job_title           3755 non-null   object\n",
      " 4   salary              3755 non-null   int64 \n",
      " 5   salary_currency     3755 non-null   object\n",
      " 6   salary_in_usd       3755 non-null   int64 \n",
      " 7   employee_residence  3755 non-null   object\n",
      " 8   remote_ratio        3755 non-null   int64 \n",
      " 9   company_location    3755 non-null   object\n",
      " 10  company_size        3755 non-null   object\n",
      "dtypes: int64(4), object(7)\n",
      "memory usage: 322.8+ KB\n"
     ]
    }
   ],
   "source": [
    "df.info()"
   ]
  },
  {
   "cell_type": "code",
   "execution_count": 5,
   "metadata": {},
   "outputs": [],
   "source": [
    "df.loc[df[\"job_title\"] == \"ML Engineer\", \"job_title\"] = \"Machine Learning Engineer\""
   ]
  },
  {
   "cell_type": "code",
   "execution_count": 6,
   "metadata": {},
   "outputs": [
    {
     "data": {
      "text/plain": [
       "work_year             0\n",
       "experience_level      0\n",
       "employment_type       0\n",
       "job_title             0\n",
       "salary                0\n",
       "salary_currency       0\n",
       "salary_in_usd         0\n",
       "employee_residence    0\n",
       "remote_ratio          0\n",
       "company_location      0\n",
       "company_size          0\n",
       "dtype: int64"
      ]
     },
     "execution_count": 6,
     "metadata": {},
     "output_type": "execute_result"
    }
   ],
   "source": [
    "df.isna().sum()"
   ]
  },
  {
   "cell_type": "markdown",
   "metadata": {},
   "source": [
    "# Exploratory Data Analysis -- Graphs"
   ]
  },
  {
   "cell_type": "code",
   "execution_count": 7,
   "metadata": {},
   "outputs": [
    {
     "data": {
      "image/png": "[encoded data removed]",
      "text/plain": [
       "<Figure size 432x288 with 1 Axes>"
      ]
     },
     "metadata": {
      "needs_background": "light"
     },
     "output_type": "display_data"
    }
   ],
   "source": [
    "sns.countplot(x = \"work_year\", data = df, order = df[\"work_year\"].value_counts().index)\n",
    "plt.xlabel(\"Work Year\")\n",
    "plt.ylabel(\"Count\")\n",
    "plt.title(\"Work Year Distribution\")\n",
    "plt.show()"
   ]
  },
  {
   "cell_type": "code",
   "execution_count": 8,
   "metadata": {
    "colab": {
     "base_uri": "https://localhost:8080/",
     "height": 489
    },
    "id": "cww9hF0C8nD_",
    "outputId": "9248c7af-ad16-4b8b-a894-7d309adb2cad"
   },
   "outputs": [
    {
     "data": {
      "image/png": "[encoded data removed]",
      "text/plain": [
       "<Figure size 432x288 with 1 Axes>"
      ]
     },
     "metadata": {
      "needs_background": "light"
     },
     "output_type": "display_data"
    }
   ],
   "source": [
    "sns.countplot(x = \"experience_level\", data = df, order = df[\"experience_level\"].value_counts().index)\n",
    "plt.xticks(range(4), [\"Senior\", \"Mid-Level\", \"Entry-Level\", \"Executive\"])\n",
    "plt.xlabel(\"Experience Level\")\n",
    "plt.ylabel(\"Count\")\n",
    "plt.title(\"Experience Level Distribution\")\n",
    "plt.show()"
   ]
  },
  {
   "cell_type": "code",
   "execution_count": 9,
   "metadata": {
    "colab": {
     "base_uri": "https://localhost:8080/",
     "height": 489
    },
    "id": "IFVdsRxl-Erk",
    "outputId": "be924928-c3a4-4fd2-80de-3e30f024bfb1"
   },
   "outputs": [
    {
     "data": {
      "image/png": "[encoded data removed]",
      "text/plain": [
       "<Figure size 432x288 with 1 Axes>"
      ]
     },
     "metadata": {
      "needs_background": "light"
     },
     "output_type": "display_data"
    }
   ],
   "source": [
    "sns.countplot(x = \"employment_type\", data = df, order = df[\"employment_type\"].value_counts().index)\n",
    "plt.xticks(range(4), [\"Full-Time\", \"Contract\", \"Freelance\", \"Part-Time\"])\n",
    "plt.xlabel(\"Employment Type\")\n",
    "plt.ylabel(\"Count\")\n",
    "plt.title(\"Employment Type Distribution\")\n",
    "plt.show()"
   ]
  },
  {
   "cell_type": "code",
   "execution_count": 10,
   "metadata": {
    "colab": {
     "base_uri": "https://localhost:8080/",
     "height": 489
    },
    "id": "QaHqjwb4-dXW",
    "outputId": "0b344256-b548-4650-9341-b0f6bb5976ed"
   },
   "outputs": [
    {
     "data": {
      "image/png": "[encoded data removed]",
      "text/plain": [
       "<Figure size 1152x576 with 1 Axes>"
      ]
     },
     "metadata": {
      "needs_background": "light"
     },
     "output_type": "display_data"
    }
   ],
   "source": [
    "plt.figure(figsize=(16,8)) \n",
    "sns.countplot(x = \"job_title\", data = df, order = df[\"job_title\"].value_counts()[:20].index)\n",
    "plt.xticks(range(20), [\"DEng\", \"Dsci\", \"DAn\", \"MLEng\", \"AnEng\", \"DArch\", \"RSci\", \"AppSci\", \"DSMan\", \"REng\", \"DMan\", \n",
    "                       \"MLSci\", \"DSCons\", \"DAnMan\", \"CoVisEng\", \"AISci\", \"BIDAn\", \n",
    "                       \"BusDAn\", \"DSpec\", \"BIDev\"])\n",
    "plt.xlabel(\"Job Title\")\n",
    "plt.ylabel(\"Count\")\n",
    "plt.title(\"Top 20 Job Title Distribution (Other = 8%)\")\n",
    "plt.show()"
   ]
  },
  {
   "cell_type": "code",
   "execution_count": 11,
   "metadata": {
    "colab": {
     "base_uri": "https://localhost:8080/",
     "height": 489
    },
    "id": "VAIYfCxW-dkZ",
    "outputId": "5ca100ce-d883-46bd-eb5a-f40ca97ea437"
   },
   "outputs": [
    {
     "data": {
      "image/png": "[encoded data removed]",
      "text/plain": [
       "<Figure size 432x288 with 1 Axes>"
      ]
     },
     "metadata": {
      "needs_background": "light"
     },
     "output_type": "display_data"
    }
   ],
   "source": [
    "sns.countplot(x = \"salary_currency\", data = df, order = df[\"salary_currency\"].value_counts()[:10].index)\n",
    "plt.xlabel(\"Salary Currency\")\n",
    "plt.ylabel(\"Count\")\n",
    "plt.title(\"Salary Currency Distribution (Other = 0.5%)\")\n",
    "plt.show()"
   ]
  },
  {
   "cell_type": "code",
   "execution_count": 13,
   "metadata": {
    "id": "QYh8YX3WPG7Q"
   },
   "outputs": [
    {
     "data": {
      "image/png": "[encoded data removed]",
      "text/plain": [
       "<Figure size 432x288 with 1 Axes>"
      ]
     },
     "metadata": {
      "needs_background": "light"
     },
     "output_type": "display_data"
    }
   ],
   "source": [
    "sns.countplot(x = \"employee_residence\", data = df, order = df[\"employee_residence\"].value_counts()[:10].index)\n",
    "plt.xlabel(\"Employee Residence\")\n",
    "plt.ylabel(\"Count\")\n",
    "plt.title(\"Employee Residence Distribution (Other = 5.5%)\")\n",
    "plt.show()"
   ]
  },
  {
   "cell_type": "code",
   "execution_count": 12,
   "metadata": {
    "id": "ri4prbebPHCP"
   },
   "outputs": [
    {
     "data": {
      "image/png": "[encoded data removed]",
      "text/plain": [
       "<Figure size 432x288 with 1 Axes>"
      ]
     },
     "metadata": {
      "needs_background": "light"
     },
     "output_type": "display_data"
    }
   ],
   "source": [
    "sns.countplot(x = \"company_location\", data = df, order = df[\"company_location\"].value_counts()[:10].index)\n",
    "plt.xlabel(\"Company Location\")\n",
    "plt.ylabel(\"Count\")\n",
    "plt.title(\"Company Location Distribution (Other = 5%)\")\n",
    "plt.show()"
   ]
  },
  {
   "cell_type": "code",
   "execution_count": 14,
   "metadata": {
    "id": "AKn7tWh0PHEr"
   },
   "outputs": [
    {
     "data": {
      "image/png": "[encoded data removed]",
      "text/plain": [
       "<Figure size 432x288 with 1 Axes>"
      ]
     },
     "metadata": {
      "needs_background": "light"
     },
     "output_type": "display_data"
    }
   ],
   "source": [
    "sns.countplot(x = \"company_size\", data = df, order = df[\"company_size\"].value_counts().index)\n",
    "plt.xticks(range(3), [\"Medium\", \"Large\", \"Small\"])\n",
    "plt.xlabel(\"Company Size\")\n",
    "plt.ylabel(\"Count\")\n",
    "plt.title(\"Company Size Distribution\")\n",
    "plt.show()"
   ]
  },
  {
   "cell_type": "code",
   "execution_count": 15,
   "metadata": {
    "id": "mOaV3iQJPHG-"
   },
   "outputs": [
    {
     "data": {
      "image/png": "[encoded data removed]",
      "text/plain": [
       "<Figure size 432x288 with 1 Axes>"
      ]
     },
     "metadata": {
      "needs_background": "light"
     },
     "output_type": "display_data"
    }
   ],
   "source": [
    "sns.countplot(x = \"remote_ratio\", data = df, order = df[\"remote_ratio\"].value_counts().index)\n",
    "#plt.xticks(range(3), [\"In Person\", \"Fully Remote\", \"Hybrid\"])\n",
    "plt.xlabel(\"Remote Work Ratio\")\n",
    "plt.ylabel(\"Count\")\n",
    "plt.title(\"Remote Work Ratio Distribution\")\n",
    "plt.show()"
   ]
  },
  {
   "cell_type": "code",
   "execution_count": 16,
   "metadata": {
    "id": "wiPBUL8nPHJx"
   },
   "outputs": [
    {
     "name": "stdout",
     "output_type": "stream",
     "text": [
      "Salary Statistics\n",
      "Mean: 190695.57\n",
      "Median: 138000.0\n",
      "Standard Deviation: 671676.5\n",
      "Min: 6000\n",
      "Max: 30400000\n"
     ]
    }
   ],
   "source": [
    "print(\"Salary Statistics\\n\" + \"Mean: \" + str(round(df[\"salary\"].mean(), 2)) + \"\\n\" + \"Median: \" + \n",
    "      str(round(df[\"salary\"].median(), 2)) + \"\\n\" + \"Standard Deviation: \" + str(round(df[\"salary\"].std(), 2)) + \"\\n\" + \n",
    "      \"Min: \" + str(df[\"salary\"].min()) + \"\\n\" + \"Max: \" + str(df[\"salary\"].max()))"
   ]
  },
  {
   "cell_type": "code",
   "execution_count": 17,
   "metadata": {
    "id": "OlK2EPEtPHMv"
   },
   "outputs": [
    {
     "data": {
      "image/png": "[encoded data removed]",
      "text/plain": [
       "<Figure size 432x288 with 1 Axes>"
      ]
     },
     "metadata": {
      "needs_background": "light"
     },
     "output_type": "display_data"
    }
   ],
   "source": [
    "sns.kdeplot(data = df, x = df[\"salary\"], fill = True)\n",
    "plt.xlabel(\"Salary\")\n",
    "plt.title(\"Salary Distribution\")\n",
    "plt.show()"
   ]
  },
  {
   "cell_type": "code",
   "execution_count": 18,
   "metadata": {},
   "outputs": [
    {
     "name": "stdout",
     "output_type": "stream",
     "text": [
      "USD Salary Statistics\n",
      "Mean: 137570.39\n",
      "Median: 135000.0\n",
      "Standard Deviation: 63055.63\n",
      "Min: 5132\n",
      "Max: 450000\n"
     ]
    }
   ],
   "source": [
    "print(\"USD Salary Statistics\\n\" + \"Mean: \" + str(round(df[\"salary_in_usd\"].mean(), 2)) + \"\\n\" + \"Median: \" + \n",
    "      str(round(df[\"salary_in_usd\"].median(), 2)) + \"\\n\" + \"Standard Deviation: \" + \n",
    "      str(round(df[\"salary_in_usd\"].std(), 2)) + \"\\n\" + \n",
    "      \"Min: \" + str(df[\"salary_in_usd\"].min()) + \"\\n\" + \"Max: \" + str(df[\"salary_in_usd\"].max()))"
   ]
  },
  {
   "cell_type": "code",
   "execution_count": 19,
   "metadata": {},
   "outputs": [
    {
     "data": {
      "image/png": "[encoded data removed]",
      "text/plain": [
       "<Figure size 432x288 with 1 Axes>"
      ]
     },
     "metadata": {
      "needs_background": "light"
     },
     "output_type": "display_data"
    }
   ],
   "source": [
    "sns.kdeplot(data = df, x = df[\"salary_in_usd\"], fill = True)\n",
    "plt.xlabel(\"USD Salary\")\n",
    "plt.title(\"USD Salary Distribution\")\n",
    "plt.show()"
   ]
  },
  {
   "cell_type": "markdown",
   "metadata": {},
   "source": [
    "# Keeping Most Common Values -- Assigning other values as \"Other\""
   ]
  },
  {
   "cell_type": "code",
   "execution_count": 20,
   "metadata": {
    "scrolled": true
   },
   "outputs": [
    {
     "name": "stdout",
     "output_type": "stream",
     "text": [
      "91.77097203728363\n",
      "99.49400798934754\n",
      "94.4074567243675\n",
      "94.99334221038616\n"
     ]
    }
   ],
   "source": [
    "print((sum(df[\"job_title\"].value_counts()[:20].tolist()) / len(df)) * 100)\n",
    "print((sum(df[\"salary_currency\"].value_counts()[:10].tolist()) / len(df)) * 100)\n",
    "print((sum(df[\"employee_residence\"].value_counts()[:10].tolist()) / len(df)) * 100)\n",
    "print((sum(df[\"company_location\"].value_counts()[:10].tolist()) / len(df)) * 100)"
   ]
  },
  {
   "cell_type": "code",
   "execution_count": 21,
   "metadata": {},
   "outputs": [],
   "source": [
    "#job_title_list = list(df[\"job_title\"].value_counts()[:15].index)\n",
    "#currency_list = list(df[\"salary_currency\"].value_counts()[:15].index)\n",
    "#residence_list = list(df[\"employee_residence\"].value_counts()[:15].index)\n",
    "#company_location_list = list(df[\"company_location\"].value_counts()[:15].index)\n",
    "\n",
    "job_title_list = list(df[\"job_title\"].value_counts()[:20].index)\n",
    "currency_list = list(df[\"salary_currency\"].value_counts()[:10].index)\n",
    "residence_list = list(df[\"employee_residence\"].value_counts()[:10].index)\n",
    "company_location_list = list(df[\"company_location\"].value_counts()[:10].index)"
   ]
  },
  {
   "cell_type": "code",
   "execution_count": 22,
   "metadata": {},
   "outputs": [],
   "source": [
    "df.loc[df[\"job_title\"].isin(job_title_list) == False, \"job_title\"] = \"Other\"\n",
    "df.loc[df[\"salary_currency\"].isin(currency_list) == False, \"salary_currency\"] = \"Other\"\n",
    "df.loc[df[\"employee_residence\"].isin(residence_list) == False, \"employee_residence\"] = \"Other\"\n",
    "df.loc[df[\"company_location\"].isin(company_location_list) == False, \"company_location\"] = \"Other\""
   ]
  },
  {
   "cell_type": "markdown",
   "metadata": {},
   "source": [
    "# Exploratory Data Analysis -- Group By"
   ]
  },
  {
   "cell_type": "code",
   "execution_count": 23,
   "metadata": {},
   "outputs": [],
   "source": [
    "cat_cols = df[[\"work_year\", \"experience_level\", \"employment_type\", \"job_title\", \"salary_currency\", \"employee_residence\",\n",
    "               \"remote_ratio\", \"company_location\", \"company_size\"]]\n",
    "\n",
    "for col in cat_cols:\n",
    "    df[col] = df[col].astype(\"category\")"
   ]
  },
  {
   "cell_type": "code",
   "execution_count": 24,
   "metadata": {},
   "outputs": [
    {
     "data": {
      "text/html": [
       "<div>\n",
       "<style scoped>\n",
       "    .dataframe tbody tr th:only-of-type {\n",
       "        vertical-align: middle;\n",
       "    }\n",
       "\n",
       "    .dataframe tbody tr th {\n",
       "        vertical-align: top;\n",
       "    }\n",
       "\n",
       "    .dataframe thead th {\n",
       "        text-align: right;\n",
       "    }\n",
       "</style>\n",
       "<table border=\"1\" class=\"dataframe\">\n",
       "  <thead>\n",
       "    <tr style=\"text-align: right;\">\n",
       "      <th></th>\n",
       "      <th>work_year</th>\n",
       "      <th>salary_in_usd</th>\n",
       "    </tr>\n",
       "  </thead>\n",
       "  <tbody>\n",
       "    <tr>\n",
       "      <th>3</th>\n",
       "      <td>2023</td>\n",
       "      <td>149045.54</td>\n",
       "    </tr>\n",
       "    <tr>\n",
       "      <th>2</th>\n",
       "      <td>2022</td>\n",
       "      <td>133338.62</td>\n",
       "    </tr>\n",
       "    <tr>\n",
       "      <th>1</th>\n",
       "      <td>2021</td>\n",
       "      <td>94087.21</td>\n",
       "    </tr>\n",
       "    <tr>\n",
       "      <th>0</th>\n",
       "      <td>2020</td>\n",
       "      <td>92302.63</td>\n",
       "    </tr>\n",
       "  </tbody>\n",
       "</table>\n",
       "</div>"
      ],
      "text/plain": [
       "  work_year  salary_in_usd\n",
       "3      2023      149045.54\n",
       "2      2022      133338.62\n",
       "1      2021       94087.21\n",
       "0      2020       92302.63"
      ]
     },
     "execution_count": 24,
     "metadata": {},
     "output_type": "execute_result"
    }
   ],
   "source": [
    "round(df.groupby([\"work_year\"])[\"salary_in_usd\"].mean().reset_index().sort_values(\"salary_in_usd\", ascending = False), 2)"
   ]
  },
  {
   "cell_type": "code",
   "execution_count": 25,
   "metadata": {},
   "outputs": [
    {
     "data": {
      "text/html": [
       "<div>\n",
       "<style scoped>\n",
       "    .dataframe tbody tr th:only-of-type {\n",
       "        vertical-align: middle;\n",
       "    }\n",
       "\n",
       "    .dataframe tbody tr th {\n",
       "        vertical-align: top;\n",
       "    }\n",
       "\n",
       "    .dataframe thead th {\n",
       "        text-align: right;\n",
       "    }\n",
       "</style>\n",
       "<table border=\"1\" class=\"dataframe\">\n",
       "  <thead>\n",
       "    <tr style=\"text-align: right;\">\n",
       "      <th></th>\n",
       "      <th>experience_level</th>\n",
       "      <th>salary_in_usd</th>\n",
       "    </tr>\n",
       "  </thead>\n",
       "  <tbody>\n",
       "    <tr>\n",
       "      <th>1</th>\n",
       "      <td>EX</td>\n",
       "      <td>194930.93</td>\n",
       "    </tr>\n",
       "    <tr>\n",
       "      <th>3</th>\n",
       "      <td>SE</td>\n",
       "      <td>153051.07</td>\n",
       "    </tr>\n",
       "    <tr>\n",
       "      <th>2</th>\n",
       "      <td>MI</td>\n",
       "      <td>104525.94</td>\n",
       "    </tr>\n",
       "    <tr>\n",
       "      <th>0</th>\n",
       "      <td>EN</td>\n",
       "      <td>78546.28</td>\n",
       "    </tr>\n",
       "  </tbody>\n",
       "</table>\n",
       "</div>"
      ],
      "text/plain": [
       "  experience_level  salary_in_usd\n",
       "1               EX      194930.93\n",
       "3               SE      153051.07\n",
       "2               MI      104525.94\n",
       "0               EN       78546.28"
      ]
     },
     "execution_count": 25,
     "metadata": {},
     "output_type": "execute_result"
    }
   ],
   "source": [
    "round(df.groupby(\"experience_level\")[\"salary_in_usd\"].mean().reset_index().sort_values(\"salary_in_usd\", ascending = False), 2)"
   ]
  },
  {
   "cell_type": "code",
   "execution_count": 26,
   "metadata": {},
   "outputs": [
    {
     "data": {
      "text/html": [
       "<div>\n",
       "<style scoped>\n",
       "    .dataframe tbody tr th:only-of-type {\n",
       "        vertical-align: middle;\n",
       "    }\n",
       "\n",
       "    .dataframe tbody tr th {\n",
       "        vertical-align: top;\n",
       "    }\n",
       "\n",
       "    .dataframe thead th {\n",
       "        text-align: right;\n",
       "    }\n",
       "</style>\n",
       "<table border=\"1\" class=\"dataframe\">\n",
       "  <thead>\n",
       "    <tr style=\"text-align: right;\">\n",
       "      <th></th>\n",
       "      <th>employment_type</th>\n",
       "      <th>salary_in_usd</th>\n",
       "    </tr>\n",
       "  </thead>\n",
       "  <tbody>\n",
       "    <tr>\n",
       "      <th>2</th>\n",
       "      <td>FT</td>\n",
       "      <td>138314.20</td>\n",
       "    </tr>\n",
       "    <tr>\n",
       "      <th>0</th>\n",
       "      <td>CT</td>\n",
       "      <td>113446.90</td>\n",
       "    </tr>\n",
       "    <tr>\n",
       "      <th>1</th>\n",
       "      <td>FL</td>\n",
       "      <td>51807.80</td>\n",
       "    </tr>\n",
       "    <tr>\n",
       "      <th>3</th>\n",
       "      <td>PT</td>\n",
       "      <td>39533.71</td>\n",
       "    </tr>\n",
       "  </tbody>\n",
       "</table>\n",
       "</div>"
      ],
      "text/plain": [
       "  employment_type  salary_in_usd\n",
       "2              FT      138314.20\n",
       "0              CT      113446.90\n",
       "1              FL       51807.80\n",
       "3              PT       39533.71"
      ]
     },
     "execution_count": 26,
     "metadata": {},
     "output_type": "execute_result"
    }
   ],
   "source": [
    "round(df.groupby(\"employment_type\")[\"salary_in_usd\"].mean().reset_index().sort_values(\"salary_in_usd\", ascending = False), 2)"
   ]
  },
  {
   "cell_type": "code",
   "execution_count": 27,
   "metadata": {},
   "outputs": [
    {
     "data": {
      "text/html": [
       "<div>\n",
       "<style scoped>\n",
       "    .dataframe tbody tr th:only-of-type {\n",
       "        vertical-align: middle;\n",
       "    }\n",
       "\n",
       "    .dataframe tbody tr th {\n",
       "        vertical-align: top;\n",
       "    }\n",
       "\n",
       "    .dataframe thead th {\n",
       "        text-align: right;\n",
       "    }\n",
       "</style>\n",
       "<table border=\"1\" class=\"dataframe\">\n",
       "  <thead>\n",
       "    <tr style=\"text-align: right;\">\n",
       "      <th></th>\n",
       "      <th>job_title</th>\n",
       "      <th>salary_in_usd</th>\n",
       "    </tr>\n",
       "  </thead>\n",
       "  <tbody>\n",
       "    <tr>\n",
       "      <th>13</th>\n",
       "      <td>Data Science Manager</td>\n",
       "      <td>191278.78</td>\n",
       "    </tr>\n",
       "    <tr>\n",
       "      <th>2</th>\n",
       "      <td>Applied Scientist</td>\n",
       "      <td>190264.48</td>\n",
       "    </tr>\n",
       "    <tr>\n",
       "      <th>17</th>\n",
       "      <td>Machine Learning Scientist</td>\n",
       "      <td>163220.08</td>\n",
       "    </tr>\n",
       "    <tr>\n",
       "      <th>19</th>\n",
       "      <td>Research Engineer</td>\n",
       "      <td>163108.38</td>\n",
       "    </tr>\n",
       "    <tr>\n",
       "      <th>9</th>\n",
       "      <td>Data Architect</td>\n",
       "      <td>161713.77</td>\n",
       "    </tr>\n",
       "    <tr>\n",
       "      <th>20</th>\n",
       "      <td>Research Scientist</td>\n",
       "      <td>161214.20</td>\n",
       "    </tr>\n",
       "    <tr>\n",
       "      <th>16</th>\n",
       "      <td>Machine Learning Engineer</td>\n",
       "      <td>155076.17</td>\n",
       "    </tr>\n",
       "    <tr>\n",
       "      <th>1</th>\n",
       "      <td>Analytics Engineer</td>\n",
       "      <td>152368.63</td>\n",
       "    </tr>\n",
       "    <tr>\n",
       "      <th>6</th>\n",
       "      <td>Computer Vision Engineer</td>\n",
       "      <td>143536.11</td>\n",
       "    </tr>\n",
       "    <tr>\n",
       "      <th>10</th>\n",
       "      <td>Data Engineer</td>\n",
       "      <td>142785.73</td>\n",
       "    </tr>\n",
       "    <tr>\n",
       "      <th>8</th>\n",
       "      <td>Data Analytics Manager</td>\n",
       "      <td>141879.09</td>\n",
       "    </tr>\n",
       "    <tr>\n",
       "      <th>14</th>\n",
       "      <td>Data Scientist</td>\n",
       "      <td>140869.77</td>\n",
       "    </tr>\n",
       "    <tr>\n",
       "      <th>4</th>\n",
       "      <td>BI Developer</td>\n",
       "      <td>129846.15</td>\n",
       "    </tr>\n",
       "    <tr>\n",
       "      <th>18</th>\n",
       "      <td>Other</td>\n",
       "      <td>120623.53</td>\n",
       "    </tr>\n",
       "    <tr>\n",
       "      <th>15</th>\n",
       "      <td>Data Specialist</td>\n",
       "      <td>119642.86</td>\n",
       "    </tr>\n",
       "    <tr>\n",
       "      <th>11</th>\n",
       "      <td>Data Manager</td>\n",
       "      <td>116613.34</td>\n",
       "    </tr>\n",
       "    <tr>\n",
       "      <th>0</th>\n",
       "      <td>AI Scientist</td>\n",
       "      <td>110120.88</td>\n",
       "    </tr>\n",
       "    <tr>\n",
       "      <th>7</th>\n",
       "      <td>Data Analyst</td>\n",
       "      <td>108716.23</td>\n",
       "    </tr>\n",
       "    <tr>\n",
       "      <th>12</th>\n",
       "      <td>Data Science Consultant</td>\n",
       "      <td>87011.75</td>\n",
       "    </tr>\n",
       "    <tr>\n",
       "      <th>5</th>\n",
       "      <td>Business Data Analyst</td>\n",
       "      <td>66065.40</td>\n",
       "    </tr>\n",
       "    <tr>\n",
       "      <th>3</th>\n",
       "      <td>BI Data Analyst</td>\n",
       "      <td>60440.13</td>\n",
       "    </tr>\n",
       "  </tbody>\n",
       "</table>\n",
       "</div>"
      ],
      "text/plain": [
       "                     job_title  salary_in_usd\n",
       "13        Data Science Manager      191278.78\n",
       "2            Applied Scientist      190264.48\n",
       "17  Machine Learning Scientist      163220.08\n",
       "19           Research Engineer      163108.38\n",
       "9               Data Architect      161713.77\n",
       "20          Research Scientist      161214.20\n",
       "16   Machine Learning Engineer      155076.17\n",
       "1           Analytics Engineer      152368.63\n",
       "6     Computer Vision Engineer      143536.11\n",
       "10               Data Engineer      142785.73\n",
       "8       Data Analytics Manager      141879.09\n",
       "14              Data Scientist      140869.77\n",
       "4                 BI Developer      129846.15\n",
       "18                       Other      120623.53\n",
       "15             Data Specialist      119642.86\n",
       "11                Data Manager      116613.34\n",
       "0                 AI Scientist      110120.88\n",
       "7                 Data Analyst      108716.23\n",
       "12     Data Science Consultant       87011.75\n",
       "5        Business Data Analyst       66065.40\n",
       "3              BI Data Analyst       60440.13"
      ]
     },
     "execution_count": 27,
     "metadata": {},
     "output_type": "execute_result"
    }
   ],
   "source": [
    "round(df.groupby(\"job_title\")[\"salary_in_usd\"].mean().reset_index().sort_values(\"salary_in_usd\", ascending = False), 2)"
   ]
  },
  {
   "cell_type": "code",
   "execution_count": 28,
   "metadata": {},
   "outputs": [
    {
     "data": {
      "text/html": [
       "<div>\n",
       "<style scoped>\n",
       "    .dataframe tbody tr th:only-of-type {\n",
       "        vertical-align: middle;\n",
       "    }\n",
       "\n",
       "    .dataframe tbody tr th {\n",
       "        vertical-align: top;\n",
       "    }\n",
       "\n",
       "    .dataframe thead th {\n",
       "        text-align: right;\n",
       "    }\n",
       "</style>\n",
       "<table border=\"1\" class=\"dataframe\">\n",
       "  <thead>\n",
       "    <tr style=\"text-align: right;\">\n",
       "      <th></th>\n",
       "      <th>salary_currency</th>\n",
       "      <th>salary_in_usd</th>\n",
       "    </tr>\n",
       "  </thead>\n",
       "  <tbody>\n",
       "    <tr>\n",
       "      <th>10</th>\n",
       "      <td>USD</td>\n",
       "      <td>149366.91</td>\n",
       "    </tr>\n",
       "    <tr>\n",
       "      <th>3</th>\n",
       "      <td>CHF</td>\n",
       "      <td>100682.00</td>\n",
       "    </tr>\n",
       "    <tr>\n",
       "      <th>2</th>\n",
       "      <td>CAD</td>\n",
       "      <td>96707.40</td>\n",
       "    </tr>\n",
       "    <tr>\n",
       "      <th>5</th>\n",
       "      <td>GBP</td>\n",
       "      <td>83850.23</td>\n",
       "    </tr>\n",
       "    <tr>\n",
       "      <th>9</th>\n",
       "      <td>SGD</td>\n",
       "      <td>81770.00</td>\n",
       "    </tr>\n",
       "    <tr>\n",
       "      <th>0</th>\n",
       "      <td>AUD</td>\n",
       "      <td>74198.44</td>\n",
       "    </tr>\n",
       "    <tr>\n",
       "      <th>4</th>\n",
       "      <td>EUR</td>\n",
       "      <td>62281.73</td>\n",
       "    </tr>\n",
       "    <tr>\n",
       "      <th>7</th>\n",
       "      <td>Other</td>\n",
       "      <td>55162.11</td>\n",
       "    </tr>\n",
       "    <tr>\n",
       "      <th>8</th>\n",
       "      <td>PLN</td>\n",
       "      <td>34165.20</td>\n",
       "    </tr>\n",
       "    <tr>\n",
       "      <th>6</th>\n",
       "      <td>INR</td>\n",
       "      <td>25785.30</td>\n",
       "    </tr>\n",
       "    <tr>\n",
       "      <th>1</th>\n",
       "      <td>BRL</td>\n",
       "      <td>12448.00</td>\n",
       "    </tr>\n",
       "  </tbody>\n",
       "</table>\n",
       "</div>"
      ],
      "text/plain": [
       "   salary_currency  salary_in_usd\n",
       "10             USD      149366.91\n",
       "3              CHF      100682.00\n",
       "2              CAD       96707.40\n",
       "5              GBP       83850.23\n",
       "9              SGD       81770.00\n",
       "0              AUD       74198.44\n",
       "4              EUR       62281.73\n",
       "7            Other       55162.11\n",
       "8              PLN       34165.20\n",
       "6              INR       25785.30\n",
       "1              BRL       12448.00"
      ]
     },
     "execution_count": 28,
     "metadata": {},
     "output_type": "execute_result"
    }
   ],
   "source": [
    "round(df.groupby(\"salary_currency\")[\"salary_in_usd\"].mean().reset_index().sort_values(\"salary_in_usd\", ascending = False), 2)"
   ]
  },
  {
   "cell_type": "code",
   "execution_count": 29,
   "metadata": {},
   "outputs": [
    {
     "data": {
      "text/html": [
       "<div>\n",
       "<style scoped>\n",
       "    .dataframe tbody tr th:only-of-type {\n",
       "        vertical-align: middle;\n",
       "    }\n",
       "\n",
       "    .dataframe tbody tr th {\n",
       "        vertical-align: top;\n",
       "    }\n",
       "\n",
       "    .dataframe thead th {\n",
       "        text-align: right;\n",
       "    }\n",
       "</style>\n",
       "<table border=\"1\" class=\"dataframe\">\n",
       "  <thead>\n",
       "    <tr style=\"text-align: right;\">\n",
       "      <th></th>\n",
       "      <th>employee_residence</th>\n",
       "      <th>salary_in_usd</th>\n",
       "    </tr>\n",
       "  </thead>\n",
       "  <tbody>\n",
       "    <tr>\n",
       "      <th>10</th>\n",
       "      <td>US</td>\n",
       "      <td>152822.01</td>\n",
       "    </tr>\n",
       "    <tr>\n",
       "      <th>1</th>\n",
       "      <td>CA</td>\n",
       "      <td>132222.91</td>\n",
       "    </tr>\n",
       "    <tr>\n",
       "      <th>2</th>\n",
       "      <td>DE</td>\n",
       "      <td>94772.25</td>\n",
       "    </tr>\n",
       "    <tr>\n",
       "      <th>5</th>\n",
       "      <td>GB</td>\n",
       "      <td>86988.32</td>\n",
       "    </tr>\n",
       "    <tr>\n",
       "      <th>8</th>\n",
       "      <td>Other</td>\n",
       "      <td>70100.98</td>\n",
       "    </tr>\n",
       "    <tr>\n",
       "      <th>4</th>\n",
       "      <td>FR</td>\n",
       "      <td>61492.50</td>\n",
       "    </tr>\n",
       "    <tr>\n",
       "      <th>3</th>\n",
       "      <td>ES</td>\n",
       "      <td>60463.35</td>\n",
       "    </tr>\n",
       "    <tr>\n",
       "      <th>6</th>\n",
       "      <td>GR</td>\n",
       "      <td>55136.06</td>\n",
       "    </tr>\n",
       "    <tr>\n",
       "      <th>9</th>\n",
       "      <td>PT</td>\n",
       "      <td>53059.00</td>\n",
       "    </tr>\n",
       "    <tr>\n",
       "      <th>0</th>\n",
       "      <td>BR</td>\n",
       "      <td>48927.11</td>\n",
       "    </tr>\n",
       "    <tr>\n",
       "      <th>7</th>\n",
       "      <td>IN</td>\n",
       "      <td>36218.45</td>\n",
       "    </tr>\n",
       "  </tbody>\n",
       "</table>\n",
       "</div>"
      ],
      "text/plain": [
       "   employee_residence  salary_in_usd\n",
       "10                 US      152822.01\n",
       "1                  CA      132222.91\n",
       "2                  DE       94772.25\n",
       "5                  GB       86988.32\n",
       "8               Other       70100.98\n",
       "4                  FR       61492.50\n",
       "3                  ES       60463.35\n",
       "6                  GR       55136.06\n",
       "9                  PT       53059.00\n",
       "0                  BR       48927.11\n",
       "7                  IN       36218.45"
      ]
     },
     "execution_count": 29,
     "metadata": {},
     "output_type": "execute_result"
    }
   ],
   "source": [
    "round(df.groupby(\"employee_residence\")[\"salary_in_usd\"].mean().reset_index().sort_values(\"salary_in_usd\", ascending = False), 2)"
   ]
  },
  {
   "cell_type": "code",
   "execution_count": 30,
   "metadata": {},
   "outputs": [
    {
     "data": {
      "text/html": [
       "<div>\n",
       "<style scoped>\n",
       "    .dataframe tbody tr th:only-of-type {\n",
       "        vertical-align: middle;\n",
       "    }\n",
       "\n",
       "    .dataframe tbody tr th {\n",
       "        vertical-align: top;\n",
       "    }\n",
       "\n",
       "    .dataframe thead th {\n",
       "        text-align: right;\n",
       "    }\n",
       "</style>\n",
       "<table border=\"1\" class=\"dataframe\">\n",
       "  <thead>\n",
       "    <tr style=\"text-align: right;\">\n",
       "      <th></th>\n",
       "      <th>remote_ratio</th>\n",
       "      <th>salary_in_usd</th>\n",
       "    </tr>\n",
       "  </thead>\n",
       "  <tbody>\n",
       "    <tr>\n",
       "      <th>0</th>\n",
       "      <td>0</td>\n",
       "      <td>144316.20</td>\n",
       "    </tr>\n",
       "    <tr>\n",
       "      <th>2</th>\n",
       "      <td>100</td>\n",
       "      <td>136481.45</td>\n",
       "    </tr>\n",
       "    <tr>\n",
       "      <th>1</th>\n",
       "      <td>50</td>\n",
       "      <td>78400.69</td>\n",
       "    </tr>\n",
       "  </tbody>\n",
       "</table>\n",
       "</div>"
      ],
      "text/plain": [
       "  remote_ratio  salary_in_usd\n",
       "0            0      144316.20\n",
       "2          100      136481.45\n",
       "1           50       78400.69"
      ]
     },
     "execution_count": 30,
     "metadata": {},
     "output_type": "execute_result"
    }
   ],
   "source": [
    "round(df.groupby(\"remote_ratio\")[\"salary_in_usd\"].mean().reset_index().sort_values(\"salary_in_usd\", ascending = False), 2)"
   ]
  },
  {
   "cell_type": "code",
   "execution_count": 31,
   "metadata": {},
   "outputs": [
    {
     "data": {
      "text/html": [
       "<div>\n",
       "<style scoped>\n",
       "    .dataframe tbody tr th:only-of-type {\n",
       "        vertical-align: middle;\n",
       "    }\n",
       "\n",
       "    .dataframe tbody tr th {\n",
       "        vertical-align: top;\n",
       "    }\n",
       "\n",
       "    .dataframe thead th {\n",
       "        text-align: right;\n",
       "    }\n",
       "</style>\n",
       "<table border=\"1\" class=\"dataframe\">\n",
       "  <thead>\n",
       "    <tr style=\"text-align: right;\">\n",
       "      <th></th>\n",
       "      <th>company_location</th>\n",
       "      <th>salary_in_usd</th>\n",
       "    </tr>\n",
       "  </thead>\n",
       "  <tbody>\n",
       "    <tr>\n",
       "      <th>10</th>\n",
       "      <td>US</td>\n",
       "      <td>151822.01</td>\n",
       "    </tr>\n",
       "    <tr>\n",
       "      <th>2</th>\n",
       "      <td>CA</td>\n",
       "      <td>131917.69</td>\n",
       "    </tr>\n",
       "    <tr>\n",
       "      <th>3</th>\n",
       "      <td>DE</td>\n",
       "      <td>88288.80</td>\n",
       "    </tr>\n",
       "    <tr>\n",
       "      <th>6</th>\n",
       "      <td>GB</td>\n",
       "      <td>86890.05</td>\n",
       "    </tr>\n",
       "    <tr>\n",
       "      <th>0</th>\n",
       "      <td>AU</td>\n",
       "      <td>80033.43</td>\n",
       "    </tr>\n",
       "    <tr>\n",
       "      <th>9</th>\n",
       "      <td>Other</td>\n",
       "      <td>67959.10</td>\n",
       "    </tr>\n",
       "    <tr>\n",
       "      <th>5</th>\n",
       "      <td>FR</td>\n",
       "      <td>66138.74</td>\n",
       "    </tr>\n",
       "    <tr>\n",
       "      <th>4</th>\n",
       "      <td>ES</td>\n",
       "      <td>57676.06</td>\n",
       "    </tr>\n",
       "    <tr>\n",
       "      <th>7</th>\n",
       "      <td>GR</td>\n",
       "      <td>51792.50</td>\n",
       "    </tr>\n",
       "    <tr>\n",
       "      <th>1</th>\n",
       "      <td>BR</td>\n",
       "      <td>40579.20</td>\n",
       "    </tr>\n",
       "    <tr>\n",
       "      <th>8</th>\n",
       "      <td>IN</td>\n",
       "      <td>30197.74</td>\n",
       "    </tr>\n",
       "  </tbody>\n",
       "</table>\n",
       "</div>"
      ],
      "text/plain": [
       "   company_location  salary_in_usd\n",
       "10               US      151822.01\n",
       "2                CA      131917.69\n",
       "3                DE       88288.80\n",
       "6                GB       86890.05\n",
       "0                AU       80033.43\n",
       "9             Other       67959.10\n",
       "5                FR       66138.74\n",
       "4                ES       57676.06\n",
       "7                GR       51792.50\n",
       "1                BR       40579.20\n",
       "8                IN       30197.74"
      ]
     },
     "execution_count": 31,
     "metadata": {},
     "output_type": "execute_result"
    }
   ],
   "source": [
    "round(df.groupby(\"company_location\")[\"salary_in_usd\"].mean().reset_index().sort_values(\"salary_in_usd\", ascending = False), 2)"
   ]
  },
  {
   "cell_type": "code",
   "execution_count": 32,
   "metadata": {},
   "outputs": [
    {
     "data": {
      "text/html": [
       "<div>\n",
       "<style scoped>\n",
       "    .dataframe tbody tr th:only-of-type {\n",
       "        vertical-align: middle;\n",
       "    }\n",
       "\n",
       "    .dataframe tbody tr th {\n",
       "        vertical-align: top;\n",
       "    }\n",
       "\n",
       "    .dataframe thead th {\n",
       "        text-align: right;\n",
       "    }\n",
       "</style>\n",
       "<table border=\"1\" class=\"dataframe\">\n",
       "  <thead>\n",
       "    <tr style=\"text-align: right;\">\n",
       "      <th></th>\n",
       "      <th>company_size</th>\n",
       "      <th>salary_in_usd</th>\n",
       "    </tr>\n",
       "  </thead>\n",
       "  <tbody>\n",
       "    <tr>\n",
       "      <th>1</th>\n",
       "      <td>M</td>\n",
       "      <td>143130.55</td>\n",
       "    </tr>\n",
       "    <tr>\n",
       "      <th>0</th>\n",
       "      <td>L</td>\n",
       "      <td>118300.98</td>\n",
       "    </tr>\n",
       "    <tr>\n",
       "      <th>2</th>\n",
       "      <td>S</td>\n",
       "      <td>78226.68</td>\n",
       "    </tr>\n",
       "  </tbody>\n",
       "</table>\n",
       "</div>"
      ],
      "text/plain": [
       "  company_size  salary_in_usd\n",
       "1            M      143130.55\n",
       "0            L      118300.98\n",
       "2            S       78226.68"
      ]
     },
     "execution_count": 32,
     "metadata": {},
     "output_type": "execute_result"
    }
   ],
   "source": [
    "round(df.groupby(\"company_size\")[\"salary_in_usd\"].mean().reset_index().sort_values(\"salary_in_usd\", ascending = False), 2)"
   ]
  },
  {
   "cell_type": "markdown",
   "metadata": {},
   "source": [
    "# Data Preprocessing"
   ]
  },
  {
   "cell_type": "markdown",
   "metadata": {},
   "source": [
    "## Encoding"
   ]
  },
  {
   "cell_type": "code",
   "execution_count": 32,
   "metadata": {},
   "outputs": [],
   "source": [
    "#cat_cols = df[[\"work_year\", \"experience_level\", \"employment_type\", \"job_title\", \"salary_currency\", \"employee_residence\",\n",
    "#               \"remote_ratio\", \"company_location\", \"company_size\"]]\n",
    "\n",
    "#for col in cat_cols:\n",
    "#    df[col] = df[col].astype(\"object\")"
   ]
  },
  {
   "cell_type": "code",
   "execution_count": 33,
   "metadata": {},
   "outputs": [],
   "source": [
    "# K-Fold Target Variable Encoding\n",
    "\n",
    "#def KFoldTargetEncoding(df):\n",
    "    \n",
    "#    data_0 = df.sample(frac = 0.2, axis = \"index\")\n",
    "\n",
    "#    data_1 = df[~df.isin(data_0)].dropna(how = \"any\").sample(frac = 0.25, axis = \"index\")\n",
    "\n",
    "#    data_2 = df[~df.isin(data_0)].dropna(how = \"any\")\n",
    "#    data_2 = data_2[~data_2.isin(data_1)].dropna(how = \"any\").sample(frac = 0.333, axis = \"index\")\n",
    "\n",
    "#    data_3 = df[~df.isin(data_0)].dropna(how = \"any\")\n",
    "#    data_3 = data_3[~data_3.isin(data_1)].dropna(how = \"any\")\n",
    "#    data_3 = data_3[~data_3.isin(data_2)].dropna(how = \"any\").sample(frac = 0.5, axis = \"index\")\n",
    "\n",
    "#    data_4 = df[~df.isin(data_0)].dropna(how = \"any\")\n",
    "#    data_4 = data_4[~data_4.isin(data_1)].dropna(how = \"any\")\n",
    "#    data_4 = data_4[~data_4.isin(data_2)].dropna(how = \"any\")\n",
    "#    data_4 = data_4[~data_4.isin(data_3)].dropna(how = \"any\")\n",
    "\n",
    "#    cross_val_list = [data_0, data_1, data_2, data_3, data_4]\n",
    "    \n",
    "#    df_cat_cols = df[[\"work_year\", \"experience_level\", \"employment_type\", \"job_title\", \"salary_currency\", \"employee_residence\", \n",
    "#                      \"remote_ratio\", \"company_location\", \"company_size\"]]\n",
    "\n",
    "#    new_data_list = []\n",
    "#    for i in range(len(cross_val_list)):\n",
    "        \n",
    "#        train_data = cross_val_list[0:4]\n",
    "#        train_data = pd.concat([train_data[0], train_data[1], train_data[2], train_data[3]])\n",
    "#        test_data = cross_val_list[4]\n",
    "        \n",
    "        \n",
    "#        test_copy = test_data.copy()\n",
    "#        for col in df_cat_cols.columns:\n",
    "#            for val in df[col].unique():\n",
    "#                test_copy.loc[test_copy[col] == val, col] = round(train_data.query(\"{0} == @val\".format(col))[\"salary_in_usd\"].mean(), 2)\n",
    "        \n",
    "#        new_data_list.append(test_copy)\n",
    "        \n",
    "#        cross_val_list.append(cross_val_list.pop(0))\n",
    "        \n",
    "#    global df_code\n",
    "#    df_code = pd.concat(new_data_list)\n"
   ]
  },
  {
   "cell_type": "code",
   "execution_count": 34,
   "metadata": {},
   "outputs": [],
   "source": [
    "# K-Fold Target Variable Encoding\n",
    "\n",
    "#KFoldTargetEncoding(df)"
   ]
  },
  {
   "cell_type": "code",
   "execution_count": 35,
   "metadata": {},
   "outputs": [],
   "source": [
    "#df_code.isna().sum()"
   ]
  },
  {
   "cell_type": "code",
   "execution_count": 36,
   "metadata": {},
   "outputs": [],
   "source": [
    "#df_code.columns"
   ]
  },
  {
   "cell_type": "markdown",
   "metadata": {},
   "source": [
    "## Label Encoding"
   ]
  },
  {
   "cell_type": "code",
   "execution_count": 33,
   "metadata": {},
   "outputs": [],
   "source": [
    "le = LabelEncoder()\n",
    "\n",
    "y = df[\"salary_in_usd\"]\n",
    "\n",
    "df.drop([\"salary_in_usd\", \"salary\"], axis = 1, inplace = True)\n",
    "\n",
    "for col in df.columns:\n",
    "    df[col] = le.fit_transform(df[col])"
   ]
  },
  {
   "cell_type": "code",
   "execution_count": 34,
   "metadata": {},
   "outputs": [
    {
     "data": {
      "text/html": [
       "<div>\n",
       "<style scoped>\n",
       "    .dataframe tbody tr th:only-of-type {\n",
       "        vertical-align: middle;\n",
       "    }\n",
       "\n",
       "    .dataframe tbody tr th {\n",
       "        vertical-align: top;\n",
       "    }\n",
       "\n",
       "    .dataframe thead th {\n",
       "        text-align: right;\n",
       "    }\n",
       "</style>\n",
       "<table border=\"1\" class=\"dataframe\">\n",
       "  <thead>\n",
       "    <tr style=\"text-align: right;\">\n",
       "      <th></th>\n",
       "      <th>work_year</th>\n",
       "      <th>experience_level</th>\n",
       "      <th>employment_type</th>\n",
       "      <th>job_title</th>\n",
       "      <th>salary_currency</th>\n",
       "      <th>employee_residence</th>\n",
       "      <th>remote_ratio</th>\n",
       "      <th>company_location</th>\n",
       "      <th>company_size</th>\n",
       "    </tr>\n",
       "  </thead>\n",
       "  <tbody>\n",
       "    <tr>\n",
       "      <th>0</th>\n",
       "      <td>3</td>\n",
       "      <td>3</td>\n",
       "      <td>2</td>\n",
       "      <td>18</td>\n",
       "      <td>4</td>\n",
       "      <td>3</td>\n",
       "      <td>2</td>\n",
       "      <td>4</td>\n",
       "      <td>0</td>\n",
       "    </tr>\n",
       "    <tr>\n",
       "      <th>1</th>\n",
       "      <td>3</td>\n",
       "      <td>2</td>\n",
       "      <td>0</td>\n",
       "      <td>16</td>\n",
       "      <td>10</td>\n",
       "      <td>10</td>\n",
       "      <td>2</td>\n",
       "      <td>10</td>\n",
       "      <td>2</td>\n",
       "    </tr>\n",
       "    <tr>\n",
       "      <th>2</th>\n",
       "      <td>3</td>\n",
       "      <td>2</td>\n",
       "      <td>0</td>\n",
       "      <td>16</td>\n",
       "      <td>10</td>\n",
       "      <td>10</td>\n",
       "      <td>2</td>\n",
       "      <td>10</td>\n",
       "      <td>2</td>\n",
       "    </tr>\n",
       "    <tr>\n",
       "      <th>3</th>\n",
       "      <td>3</td>\n",
       "      <td>3</td>\n",
       "      <td>2</td>\n",
       "      <td>14</td>\n",
       "      <td>10</td>\n",
       "      <td>1</td>\n",
       "      <td>2</td>\n",
       "      <td>2</td>\n",
       "      <td>1</td>\n",
       "    </tr>\n",
       "    <tr>\n",
       "      <th>4</th>\n",
       "      <td>3</td>\n",
       "      <td>3</td>\n",
       "      <td>2</td>\n",
       "      <td>14</td>\n",
       "      <td>10</td>\n",
       "      <td>1</td>\n",
       "      <td>2</td>\n",
       "      <td>2</td>\n",
       "      <td>1</td>\n",
       "    </tr>\n",
       "  </tbody>\n",
       "</table>\n",
       "</div>"
      ],
      "text/plain": [
       "   work_year  experience_level  employment_type  job_title  salary_currency  \\\n",
       "0          3                 3                2         18                4   \n",
       "1          3                 2                0         16               10   \n",
       "2          3                 2                0         16               10   \n",
       "3          3                 3                2         14               10   \n",
       "4          3                 3                2         14               10   \n",
       "\n",
       "   employee_residence  remote_ratio  company_location  company_size  \n",
       "0                   3             2                 4             0  \n",
       "1                  10             2                10             2  \n",
       "2                  10             2                10             2  \n",
       "3                   1             2                 2             1  \n",
       "4                   1             2                 2             1  "
      ]
     },
     "execution_count": 34,
     "metadata": {},
     "output_type": "execute_result"
    }
   ],
   "source": [
    "df.head()"
   ]
  },
  {
   "cell_type": "markdown",
   "metadata": {},
   "source": [
    "## Correlation Matrix"
   ]
  },
  {
   "cell_type": "code",
   "execution_count": 35,
   "metadata": {},
   "outputs": [
    {
     "data": {
      "text/html": [
       "<div>\n",
       "<style scoped>\n",
       "    .dataframe tbody tr th:only-of-type {\n",
       "        vertical-align: middle;\n",
       "    }\n",
       "\n",
       "    .dataframe tbody tr th {\n",
       "        vertical-align: top;\n",
       "    }\n",
       "\n",
       "    .dataframe thead th {\n",
       "        text-align: right;\n",
       "    }\n",
       "</style>\n",
       "<table border=\"1\" class=\"dataframe\">\n",
       "  <thead>\n",
       "    <tr style=\"text-align: right;\">\n",
       "      <th></th>\n",
       "      <th>work_year</th>\n",
       "      <th>experience_level</th>\n",
       "      <th>employment_type</th>\n",
       "      <th>job_title</th>\n",
       "      <th>salary_currency</th>\n",
       "      <th>employee_residence</th>\n",
       "      <th>remote_ratio</th>\n",
       "      <th>company_location</th>\n",
       "      <th>company_size</th>\n",
       "    </tr>\n",
       "  </thead>\n",
       "  <tbody>\n",
       "    <tr>\n",
       "      <th>work_year</th>\n",
       "      <td>1.00</td>\n",
       "      <td>0.19</td>\n",
       "      <td>0.01</td>\n",
       "      <td>-0.06</td>\n",
       "      <td>0.26</td>\n",
       "      <td>0.21</td>\n",
       "      <td>-0.24</td>\n",
       "      <td>0.18</td>\n",
       "      <td>0.14</td>\n",
       "    </tr>\n",
       "    <tr>\n",
       "      <th>experience_level</th>\n",
       "      <td>0.19</td>\n",
       "      <td>1.00</td>\n",
       "      <td>-0.03</td>\n",
       "      <td>-0.03</td>\n",
       "      <td>0.22</td>\n",
       "      <td>0.19</td>\n",
       "      <td>-0.05</td>\n",
       "      <td>0.18</td>\n",
       "      <td>0.07</td>\n",
       "    </tr>\n",
       "    <tr>\n",
       "      <th>employment_type</th>\n",
       "      <td>0.01</td>\n",
       "      <td>-0.03</td>\n",
       "      <td>1.00</td>\n",
       "      <td>-0.04</td>\n",
       "      <td>-0.04</td>\n",
       "      <td>-0.03</td>\n",
       "      <td>-0.03</td>\n",
       "      <td>-0.02</td>\n",
       "      <td>-0.04</td>\n",
       "    </tr>\n",
       "    <tr>\n",
       "      <th>job_title</th>\n",
       "      <td>-0.06</td>\n",
       "      <td>-0.03</td>\n",
       "      <td>-0.04</td>\n",
       "      <td>1.00</td>\n",
       "      <td>-0.11</td>\n",
       "      <td>-0.12</td>\n",
       "      <td>-0.01</td>\n",
       "      <td>-0.11</td>\n",
       "      <td>-0.01</td>\n",
       "    </tr>\n",
       "    <tr>\n",
       "      <th>salary_currency</th>\n",
       "      <td>0.26</td>\n",
       "      <td>0.22</td>\n",
       "      <td>-0.04</td>\n",
       "      <td>-0.11</td>\n",
       "      <td>1.00</td>\n",
       "      <td>0.71</td>\n",
       "      <td>-0.05</td>\n",
       "      <td>0.70</td>\n",
       "      <td>0.11</td>\n",
       "    </tr>\n",
       "    <tr>\n",
       "      <th>employee_residence</th>\n",
       "      <td>0.21</td>\n",
       "      <td>0.19</td>\n",
       "      <td>-0.03</td>\n",
       "      <td>-0.12</td>\n",
       "      <td>0.71</td>\n",
       "      <td>1.00</td>\n",
       "      <td>-0.07</td>\n",
       "      <td>0.92</td>\n",
       "      <td>0.03</td>\n",
       "    </tr>\n",
       "    <tr>\n",
       "      <th>remote_ratio</th>\n",
       "      <td>-0.24</td>\n",
       "      <td>-0.05</td>\n",
       "      <td>-0.03</td>\n",
       "      <td>-0.01</td>\n",
       "      <td>-0.05</td>\n",
       "      <td>-0.07</td>\n",
       "      <td>1.00</td>\n",
       "      <td>-0.06</td>\n",
       "      <td>-0.04</td>\n",
       "    </tr>\n",
       "    <tr>\n",
       "      <th>company_location</th>\n",
       "      <td>0.18</td>\n",
       "      <td>0.18</td>\n",
       "      <td>-0.02</td>\n",
       "      <td>-0.11</td>\n",
       "      <td>0.70</td>\n",
       "      <td>0.92</td>\n",
       "      <td>-0.06</td>\n",
       "      <td>1.00</td>\n",
       "      <td>0.04</td>\n",
       "    </tr>\n",
       "    <tr>\n",
       "      <th>company_size</th>\n",
       "      <td>0.14</td>\n",
       "      <td>0.07</td>\n",
       "      <td>-0.04</td>\n",
       "      <td>-0.01</td>\n",
       "      <td>0.11</td>\n",
       "      <td>0.03</td>\n",
       "      <td>-0.04</td>\n",
       "      <td>0.04</td>\n",
       "      <td>1.00</td>\n",
       "    </tr>\n",
       "  </tbody>\n",
       "</table>\n",
       "</div>"
      ],
      "text/plain": [
       "                    work_year  experience_level  employment_type  job_title  \\\n",
       "work_year                1.00              0.19             0.01      -0.06   \n",
       "experience_level         0.19              1.00            -0.03      -0.03   \n",
       "employment_type          0.01             -0.03             1.00      -0.04   \n",
       "job_title               -0.06             -0.03            -0.04       1.00   \n",
       "salary_currency          0.26              0.22            -0.04      -0.11   \n",
       "employee_residence       0.21              0.19            -0.03      -0.12   \n",
       "remote_ratio            -0.24             -0.05            -0.03      -0.01   \n",
       "company_location         0.18              0.18            -0.02      -0.11   \n",
       "company_size             0.14              0.07            -0.04      -0.01   \n",
       "\n",
       "                    salary_currency  employee_residence  remote_ratio  \\\n",
       "work_year                      0.26                0.21         -0.24   \n",
       "experience_level               0.22                0.19         -0.05   \n",
       "employment_type               -0.04               -0.03         -0.03   \n",
       "job_title                     -0.11               -0.12         -0.01   \n",
       "salary_currency                1.00                0.71         -0.05   \n",
       "employee_residence             0.71                1.00         -0.07   \n",
       "remote_ratio                  -0.05               -0.07          1.00   \n",
       "company_location               0.70                0.92         -0.06   \n",
       "company_size                   0.11                0.03         -0.04   \n",
       "\n",
       "                    company_location  company_size  \n",
       "work_year                       0.18          0.14  \n",
       "experience_level                0.18          0.07  \n",
       "employment_type                -0.02         -0.04  \n",
       "job_title                      -0.11         -0.01  \n",
       "salary_currency                 0.70          0.11  \n",
       "employee_residence              0.92          0.03  \n",
       "remote_ratio                   -0.06         -0.04  \n",
       "company_location                1.00          0.04  \n",
       "company_size                    0.04          1.00  "
      ]
     },
     "execution_count": 35,
     "metadata": {},
     "output_type": "execute_result"
    }
   ],
   "source": [
    "cormat = df.corr()\n",
    "round(cormat, 2)"
   ]
  },
  {
   "cell_type": "code",
   "execution_count": 40,
   "metadata": {},
   "outputs": [],
   "source": [
    "#for col in cat_cols_new:\n",
    "#    df_code[col] = df_code[col].astype(\"object\")"
   ]
  },
  {
   "cell_type": "code",
   "execution_count": 36,
   "metadata": {},
   "outputs": [],
   "source": [
    "# 80-20 Training-Test Data Split\n",
    "\n",
    "#X = df_code[[\"work_year\", \"experience_level\", \"employment_type\", \"job_title\", \"salary_currency\", \"employee_residence\", \n",
    "#            \"remote_ratio\", \"company_location\", \"company_size\"]]\n",
    "\n",
    "#y = df_code[\"salary_in_usd\"]\n",
    "\n",
    "X = df[[\"work_year\", \"experience_level\", \"employment_type\", \"job_title\", \"remote_ratio\", \"employee_residence\", \n",
    "             \"company_size\"]]\n",
    "\n",
    "#y = df[\"salary_in_usd\"]\n",
    "\n",
    "X_train, X_test, y_train, y_test = train_test_split(X, y, test_size = 0.2, random_state = 101)\n",
    "\n",
    "#for col in X.columns:\n",
    "#    X_train[col] = pd.to_numeric(X_train[col])\n",
    "#    X_test[col] = pd.to_numeric(X_test[col])"
   ]
  },
  {
   "cell_type": "code",
   "execution_count": 37,
   "metadata": {},
   "outputs": [
    {
     "data": {
      "text/html": [
       "<div>\n",
       "<style scoped>\n",
       "    .dataframe tbody tr th:only-of-type {\n",
       "        vertical-align: middle;\n",
       "    }\n",
       "\n",
       "    .dataframe tbody tr th {\n",
       "        vertical-align: top;\n",
       "    }\n",
       "\n",
       "    .dataframe thead th {\n",
       "        text-align: right;\n",
       "    }\n",
       "</style>\n",
       "<table border=\"1\" class=\"dataframe\">\n",
       "  <thead>\n",
       "    <tr style=\"text-align: right;\">\n",
       "      <th></th>\n",
       "      <th>work_year</th>\n",
       "      <th>experience_level</th>\n",
       "      <th>employment_type</th>\n",
       "      <th>job_title</th>\n",
       "      <th>remote_ratio</th>\n",
       "      <th>employee_residence</th>\n",
       "      <th>company_size</th>\n",
       "    </tr>\n",
       "  </thead>\n",
       "  <tbody>\n",
       "    <tr>\n",
       "      <th>1251</th>\n",
       "      <td>3</td>\n",
       "      <td>2</td>\n",
       "      <td>2</td>\n",
       "      <td>14</td>\n",
       "      <td>0</td>\n",
       "      <td>10</td>\n",
       "      <td>1</td>\n",
       "    </tr>\n",
       "    <tr>\n",
       "      <th>2508</th>\n",
       "      <td>2</td>\n",
       "      <td>3</td>\n",
       "      <td>2</td>\n",
       "      <td>18</td>\n",
       "      <td>0</td>\n",
       "      <td>10</td>\n",
       "      <td>1</td>\n",
       "    </tr>\n",
       "    <tr>\n",
       "      <th>1935</th>\n",
       "      <td>2</td>\n",
       "      <td>3</td>\n",
       "      <td>2</td>\n",
       "      <td>7</td>\n",
       "      <td>0</td>\n",
       "      <td>10</td>\n",
       "      <td>1</td>\n",
       "    </tr>\n",
       "    <tr>\n",
       "      <th>398</th>\n",
       "      <td>3</td>\n",
       "      <td>2</td>\n",
       "      <td>2</td>\n",
       "      <td>10</td>\n",
       "      <td>0</td>\n",
       "      <td>10</td>\n",
       "      <td>1</td>\n",
       "    </tr>\n",
       "    <tr>\n",
       "      <th>1902</th>\n",
       "      <td>2</td>\n",
       "      <td>3</td>\n",
       "      <td>2</td>\n",
       "      <td>16</td>\n",
       "      <td>2</td>\n",
       "      <td>10</td>\n",
       "      <td>1</td>\n",
       "    </tr>\n",
       "  </tbody>\n",
       "</table>\n",
       "</div>"
      ],
      "text/plain": [
       "      work_year  experience_level  employment_type  job_title  remote_ratio  \\\n",
       "1251          3                 2                2         14             0   \n",
       "2508          2                 3                2         18             0   \n",
       "1935          2                 3                2          7             0   \n",
       "398           3                 2                2         10             0   \n",
       "1902          2                 3                2         16             2   \n",
       "\n",
       "      employee_residence  company_size  \n",
       "1251                  10             1  \n",
       "2508                  10             1  \n",
       "1935                  10             1  \n",
       "398                   10             1  \n",
       "1902                  10             1  "
      ]
     },
     "execution_count": 37,
     "metadata": {},
     "output_type": "execute_result"
    }
   ],
   "source": [
    "X_train.head()"
   ]
  },
  {
   "cell_type": "code",
   "execution_count": 38,
   "metadata": {},
   "outputs": [
    {
     "data": {
      "text/plain": [
       "RandomForestRegressor(max_depth=20, max_features=5, min_samples_leaf=5,\n",
       "                      min_samples_split=20, n_estimators=150, random_state=101)"
      ]
     },
     "execution_count": 38,
     "metadata": {},
     "output_type": "execute_result"
    }
   ],
   "source": [
    "params = {\"max_depth\": [5, 10, 20], \"max_features\": [5, 6, 7], \"min_samples_leaf\": [5, 10, 15, 20], \n",
    "          \"min_samples_split\": [5, 10, 20, 25], \"n_estimators\": [100, 150, 200]}\n",
    "\n",
    "grid_search_cv = GridSearchCV(RandomForestRegressor(random_state = 101), params)\n",
    "grid_search_cv.fit(X_train.values, y_train.values)\n",
    "grid_search_cv.best_estimator_"
   ]
  },
  {
   "cell_type": "code",
   "execution_count": 39,
   "metadata": {},
   "outputs": [],
   "source": [
    "# Random Forest Fitting\n",
    "\n",
    "reg = RandomForestRegressor(max_depth = 20, max_features = 5, min_samples_leaf = 5, min_samples_split = 20, n_estimators = 150, \n",
    "                            random_state = 101)\n",
    "\n",
    "reg = reg.fit(X_train.values, y_train)\n",
    "train_pred = reg.predict(X_train.values)\n",
    "y_pred = reg.predict(X_test.values)"
   ]
  },
  {
   "cell_type": "code",
   "execution_count": 40,
   "metadata": {
    "scrolled": false
   },
   "outputs": [
    {
     "name": "stdout",
     "output_type": "stream",
     "text": [
      "***************** TRAINING METRICS *****************\n",
      "MSE:  2039002095.79\n",
      "MAE:  34024.86\n",
      "R-Squared:  0.47\n",
      "***************** TESTING METRICS *****************\n",
      "MSE:  2605841355.23\n",
      "MAE:  37810.94\n",
      "R-Squared:  0.41\n"
     ]
    }
   ],
   "source": [
    "# Random Forest Evaluatiion\n",
    "\n",
    "print(\"***************** TRAINING METRICS *****************\")\n",
    "print(\"MSE: \" , np.round(metrics.mean_squared_error(y_train, train_pred), 2))\n",
    "print(\"MAE: \" , np.round(metrics.mean_absolute_error(y_train, train_pred), 2))\n",
    "print(\"R-Squared: \" , np.round(metrics.r2_score(y_train, train_pred), 2))\n",
    "\n",
    "print(\"***************** TESTING METRICS *****************\")\n",
    "print(\"MSE: \" , np.round(metrics.mean_squared_error(y_test, y_pred), 2))\n",
    "print(\"MAE: \" , np.round(metrics.mean_absolute_error(y_test, y_pred), 2))\n",
    "print(\"R-Squared: \" , np.round(metrics.r2_score(y_test, y_pred), 2))"
   ]
  },
  {
   "cell_type": "code",
   "execution_count": 41,
   "metadata": {},
   "outputs": [],
   "source": [
    "# Residuals for Random Forest\n",
    "\n",
    "resid = abs(y_test - y_pred)\n",
    "resid_dict = dict(resid.sort_values(ascending = False))"
   ]
  },
  {
   "cell_type": "code",
   "execution_count": 42,
   "metadata": {},
   "outputs": [
    {
     "data": {
      "image/png": "[encoded data removed]",
      "text/plain": [
       "<Figure size 432x288 with 1 Axes>"
      ]
     },
     "metadata": {
      "needs_background": "light"
     },
     "output_type": "display_data"
    }
   ],
   "source": [
    "# Residuals Kernel Density Plot Random Forest\n",
    "\n",
    "sns.kdeplot(x = resid, fill = True)\n",
    "plt.xlabel(\"Residual Distribution\")\n",
    "plt.title(\"Residuals\")\n",
    "plt.show()"
   ]
  },
  {
   "cell_type": "code",
   "execution_count": 43,
   "metadata": {},
   "outputs": [
    {
     "data": {
      "image/png": "[encoded data removed]",
      "text/plain": [
       "<Figure size 432x288 with 1 Axes>"
      ]
     },
     "metadata": {
      "needs_background": "light"
     },
     "output_type": "display_data"
    }
   ],
   "source": [
    "# Random Forest Feature Importances\n",
    "\n",
    "importances = reg.feature_importances_\n",
    "indices = np.argsort(importances)\n",
    "features = X_train.columns\n",
    "plt.title('Feature Importances')\n",
    "plt.barh(range(len(indices)), importances[indices], color='b', align='center')\n",
    "plt.yticks(range(len(indices)), [features[i] for i in indices])\n",
    "plt.xlabel('Relative Importance')\n",
    "plt.show()"
   ]
  },
  {
   "cell_type": "code",
   "execution_count": 50,
   "metadata": {},
   "outputs": [
    {
     "data": {
      "text/plain": [
       "' Explain why we should not use Shap values because the interpreting the features in this case can be difficult. '"
      ]
     },
     "execution_count": 50,
     "metadata": {},
     "output_type": "execute_result"
    }
   ],
   "source": [
    "\"\"\" Explain why we should not use Shap values because the interpreting the features in this case can be difficult. \"\"\""
   ]
  },
  {
   "cell_type": "code",
   "execution_count": 44,
   "metadata": {},
   "outputs": [
    {
     "data": {
      "text/html": [
       "<div>\n",
       "<style scoped>\n",
       "    .dataframe tbody tr th:only-of-type {\n",
       "        vertical-align: middle;\n",
       "    }\n",
       "\n",
       "    .dataframe tbody tr th {\n",
       "        vertical-align: top;\n",
       "    }\n",
       "\n",
       "    .dataframe thead th {\n",
       "        text-align: right;\n",
       "    }\n",
       "</style>\n",
       "<table border=\"1\" class=\"dataframe\">\n",
       "  <thead>\n",
       "    <tr style=\"text-align: right;\">\n",
       "      <th></th>\n",
       "      <th>work_year</th>\n",
       "      <th>experience_level</th>\n",
       "      <th>employment_type</th>\n",
       "      <th>job_title</th>\n",
       "      <th>remote_ratio</th>\n",
       "      <th>employee_residence</th>\n",
       "      <th>company_size</th>\n",
       "      <th>salary_in_usd</th>\n",
       "    </tr>\n",
       "  </thead>\n",
       "  <tbody>\n",
       "    <tr>\n",
       "      <th>1251</th>\n",
       "      <td>3</td>\n",
       "      <td>2</td>\n",
       "      <td>2</td>\n",
       "      <td>14</td>\n",
       "      <td>0</td>\n",
       "      <td>10</td>\n",
       "      <td>1</td>\n",
       "      <td>170000</td>\n",
       "    </tr>\n",
       "    <tr>\n",
       "      <th>2508</th>\n",
       "      <td>2</td>\n",
       "      <td>3</td>\n",
       "      <td>2</td>\n",
       "      <td>18</td>\n",
       "      <td>0</td>\n",
       "      <td>10</td>\n",
       "      <td>1</td>\n",
       "      <td>123000</td>\n",
       "    </tr>\n",
       "    <tr>\n",
       "      <th>1935</th>\n",
       "      <td>2</td>\n",
       "      <td>3</td>\n",
       "      <td>2</td>\n",
       "      <td>7</td>\n",
       "      <td>0</td>\n",
       "      <td>10</td>\n",
       "      <td>1</td>\n",
       "      <td>95000</td>\n",
       "    </tr>\n",
       "    <tr>\n",
       "      <th>398</th>\n",
       "      <td>3</td>\n",
       "      <td>2</td>\n",
       "      <td>2</td>\n",
       "      <td>10</td>\n",
       "      <td>0</td>\n",
       "      <td>10</td>\n",
       "      <td>1</td>\n",
       "      <td>90000</td>\n",
       "    </tr>\n",
       "    <tr>\n",
       "      <th>1902</th>\n",
       "      <td>2</td>\n",
       "      <td>3</td>\n",
       "      <td>2</td>\n",
       "      <td>16</td>\n",
       "      <td>2</td>\n",
       "      <td>10</td>\n",
       "      <td>1</td>\n",
       "      <td>164000</td>\n",
       "    </tr>\n",
       "  </tbody>\n",
       "</table>\n",
       "</div>"
      ],
      "text/plain": [
       "      work_year  experience_level  employment_type  job_title  remote_ratio  \\\n",
       "1251          3                 2                2         14             0   \n",
       "2508          2                 3                2         18             0   \n",
       "1935          2                 3                2          7             0   \n",
       "398           3                 2                2         10             0   \n",
       "1902          2                 3                2         16             2   \n",
       "\n",
       "      employee_residence  company_size  salary_in_usd  \n",
       "1251                  10             1         170000  \n",
       "2508                  10             1         123000  \n",
       "1935                  10             1          95000  \n",
       "398                   10             1          90000  \n",
       "1902                  10             1         164000  "
      ]
     },
     "execution_count": 44,
     "metadata": {},
     "output_type": "execute_result"
    }
   ],
   "source": [
    "df_train = X_train.merge(y_train.to_frame(), left_index = True, right_index = True)\n",
    "df_train.head()"
   ]
  },
  {
   "cell_type": "code",
   "execution_count": 45,
   "metadata": {},
   "outputs": [],
   "source": [
    "cat_cols = df_train[[\"work_year\", \"experience_level\", \"employment_type\", \"job_title\", \"remote_ratio\", \n",
    "                       \"employee_residence\", \"company_size\"]].columns\n",
    "\n",
    "for col in cat_cols:\n",
    "    df_train[col] = df_train[col].astype(\"category\")"
   ]
  },
  {
   "cell_type": "code",
   "execution_count": 48,
   "metadata": {
    "scrolled": true
   },
   "outputs": [
    {
     "name": "stdout",
     "output_type": "stream",
     "text": [
      "                            OLS Regression Results                            \n",
      "==============================================================================\n",
      "Dep. Variable:          salary_in_usd   R-squared:                       0.427\n",
      "Model:                            OLS   Adj. R-squared:                  0.418\n",
      "Method:                 Least Squares   F-statistic:                     51.21\n",
      "Date:                Tue, 25 Apr 2023   Prob (F-statistic):          9.85e-320\n",
      "Time:                        14:05:05   Log-Likelihood:                -36579.\n",
      "No. Observations:                3004   AIC:                         7.325e+04\n",
      "Df Residuals:                    2960   BIC:                         7.351e+04\n",
      "Df Model:                          43                                         \n",
      "Covariance Type:            nonrobust                                         \n",
      "============================================================================================\n",
      "                               coef    std err          t      P>|t|      [0.025      0.975]\n",
      "--------------------------------------------------------------------------------------------\n",
      "Intercept                 8.192e+04   2.48e+04      3.307      0.001    3.33e+04     1.3e+05\n",
      "work_year[T.1]           -9641.7813   7304.844     -1.320      0.187    -2.4e+04    4681.306\n",
      "work_year[T.2]           -6927.7116   6834.736     -1.014      0.311   -2.03e+04    6473.604\n",
      "work_year[T.3]            1434.9301   6930.743      0.207      0.836   -1.22e+04     1.5e+04\n",
      "experience_level[T.1]     8.757e+04   6159.030     14.219      0.000    7.55e+04    9.96e+04\n",
      "experience_level[T.2]     2.027e+04   3601.606      5.627      0.000    1.32e+04    2.73e+04\n",
      "experience_level[T.3]     4.737e+04   3389.985     13.975      0.000    4.07e+04     5.4e+04\n",
      "employment_type[T.1]      -1.77e+04   2.36e+04     -0.750      0.453    -6.4e+04    2.86e+04\n",
      "employment_type[T.2]       362.7940   1.52e+04      0.024      0.981   -2.95e+04    3.03e+04\n",
      "employment_type[T.3]     -8959.2847   2.04e+04     -0.439      0.660   -4.89e+04     3.1e+04\n",
      "job_title[T.1]           -3.888e+04    1.4e+04     -2.780      0.005   -6.63e+04   -1.15e+04\n",
      "job_title[T.2]           -7328.4112   1.48e+04     -0.494      0.621   -3.64e+04    2.17e+04\n",
      "job_title[T.3]           -5.936e+04   1.81e+04     -3.273      0.001   -9.49e+04   -2.38e+04\n",
      "job_title[T.4]           -7.321e+04   1.99e+04     -3.684      0.000   -1.12e+05   -3.42e+04\n",
      "job_title[T.5]           -6.762e+04   1.83e+04     -3.699      0.000   -1.03e+05   -3.18e+04\n",
      "job_title[T.6]           -2.585e+04   1.85e+04     -1.400      0.162   -6.21e+04    1.04e+04\n",
      "job_title[T.7]           -7.134e+04   1.32e+04     -5.416      0.000   -9.72e+04   -4.55e+04\n",
      "job_title[T.8]           -5.062e+04   1.72e+04     -2.950      0.003   -8.43e+04    -1.7e+04\n",
      "job_title[T.9]           -3.983e+04   1.41e+04     -2.829      0.005   -6.74e+04   -1.22e+04\n",
      "job_title[T.10]          -4.547e+04   1.31e+04     -3.465      0.001   -7.12e+04   -1.97e+04\n",
      "job_title[T.11]          -7.377e+04   1.61e+04     -4.573      0.000   -1.05e+05   -4.21e+04\n",
      "job_title[T.12]          -7.055e+04    1.7e+04     -4.151      0.000   -1.04e+05   -3.72e+04\n",
      "job_title[T.13]          -4381.7749   1.49e+04     -0.294      0.769   -3.36e+04    2.48e+04\n",
      "job_title[T.14]          -3.972e+04   1.31e+04     -3.029      0.002   -6.54e+04    -1.4e+04\n",
      "job_title[T.15]          -6.189e+04   1.85e+04     -3.347      0.001   -9.81e+04   -2.56e+04\n",
      "job_title[T.16]          -2.542e+04   1.33e+04     -1.908      0.057   -5.15e+04     705.807\n",
      "job_title[T.17]          -8010.0698   1.71e+04     -0.467      0.640   -4.16e+04    2.56e+04\n",
      "job_title[T.18]          -3.759e+04   1.33e+04     -2.835      0.005   -6.36e+04   -1.16e+04\n",
      "job_title[T.19]           -2.15e+04   1.58e+04     -1.362      0.173   -5.25e+04    9460.238\n",
      "job_title[T.20]          -2.221e+04   1.42e+04     -1.563      0.118   -5.01e+04    5647.561\n",
      "remote_ratio[T.1]         1689.9538   4910.668      0.344      0.731   -7938.716    1.13e+04\n",
      "remote_ratio[T.2]         -211.6208   1882.515     -0.112      0.911   -3902.792    3479.550\n",
      "employee_residence[T.1]   5.761e+04   1.39e+04      4.158      0.000    3.04e+04    8.48e+04\n",
      "employee_residence[T.2]   3.248e+04   1.49e+04      2.187      0.029    3359.713    6.16e+04\n",
      "employee_residence[T.3]  -5320.8175   1.39e+04     -0.384      0.701   -3.25e+04    2.19e+04\n",
      "employee_residence[T.4]   5063.2769   1.55e+04      0.326      0.744   -2.54e+04    3.55e+04\n",
      "employee_residence[T.5]   3.161e+04   1.33e+04      2.384      0.017    5613.665    5.76e+04\n",
      "employee_residence[T.6]   8139.1664   1.86e+04      0.438      0.661   -2.83e+04    4.46e+04\n",
      "employee_residence[T.7]  -1.362e+04   1.41e+04     -0.968      0.333   -4.12e+04     1.4e+04\n",
      "employee_residence[T.8]   1.633e+04   1.31e+04      1.251      0.211   -9270.944    4.19e+04\n",
      "employee_residence[T.9]  -2.271e+04   1.79e+04     -1.271      0.204   -5.78e+04    1.23e+04\n",
      "employee_residence[T.10]  7.863e+04   1.27e+04      6.214      0.000    5.38e+04    1.03e+05\n",
      "company_size[T.1]        -3500.3876   3258.940     -1.074      0.283   -9890.406    2889.631\n",
      "company_size[T.2]        -1.635e+04   5398.894     -3.028      0.002   -2.69e+04   -5760.662\n",
      "==============================================================================\n",
      "Omnibus:                      647.264   Durbin-Watson:                   2.053\n",
      "Prob(Omnibus):                  0.000   Jarque-Bera (JB):             2175.429\n",
      "Skew:                           1.063   Prob(JB):                         0.00\n",
      "Kurtosis:                       6.586   Cond. No.                         152.\n",
      "==============================================================================\n",
      "\n",
      "Notes:\n",
      "[1] Standard Errors assume that the covariance matrix of the errors is correctly specified.\n",
      "                          sum_sq      df           F         PR(>F)\n",
      "work_year           4.931285e+10     3.0    7.335130   6.753015e-05\n",
      "experience_level    7.867155e+11     3.0  117.021438   1.292100e-71\n",
      "employment_type     3.094680e+09     3.0    0.460324   7.100220e-01\n",
      "job_title           7.439040e+11    20.0   16.598005   5.265846e-55\n",
      "remote_ratio        3.656284e+08     2.0    0.081579   9.216619e-01\n",
      "employee_residence  1.425084e+12    10.0   63.593003  1.624591e-117\n",
      "company_size        2.056555e+10     2.0    4.588590   1.023961e-02\n",
      "Residual            6.633194e+12  2960.0         NaN            NaN\n"
     ]
    }
   ],
   "source": [
    "# Linear Regression Fitting, Predicting (Not Performed Yet), and ANOVA\n",
    "\n",
    "#lin_reg = smf.ols(formula = \"salary_in_usd ~ experience_level + company_location + salary_currency + job_title + employee_residence + remote_ratio + work_year + company_size + employment_type\", data = df_train).fit()\n",
    "lin_reg = smf.ols(formula = \"salary_in_usd ~ work_year + experience_level + employment_type + job_title + remote_ratio + employee_residence + company_size\", data = df_train).fit()\n",
    "#lin_reg.params\n",
    "print(lin_reg.summary())\n",
    "\n",
    "lin_reg_train_pred = lin_reg.predict(exog = X_train)\n",
    "lin_reg_test_pred = lin_reg.predict(exog = X_test)\n",
    "\n",
    "table = sm.stats.anova_lm(lin_reg, typ = 2) # Type 2 ANOVA DataFrame\n",
    "\n",
    "print(table)\n"
   ]
  },
  {
   "cell_type": "code",
   "execution_count": 49,
   "metadata": {
    "scrolled": true
   },
   "outputs": [
    {
     "name": "stdout",
     "output_type": "stream",
     "text": [
      "***************** TRAINING METRICS *****************\n",
      "MSE:  2208120635.48\n",
      "MAE:  35527.76\n",
      "R-Squared:  0.43\n",
      "***************** TESTING METRICS *****************\n",
      "MSE:  2593816109.99\n",
      "MAE:  37618.29\n",
      "R-Squared:  0.42\n"
     ]
    }
   ],
   "source": [
    "# Linear Regression Evaluation\n",
    "\n",
    "print(\"***************** TRAINING METRICS *****************\")\n",
    "print(\"MSE: \" , np.round(metrics.mean_squared_error(y_train, lin_reg_train_pred), 2))\n",
    "print(\"MAE: \" , np.round(metrics.mean_absolute_error(y_train, lin_reg_train_pred), 2))\n",
    "print(\"R-Squared: \" , np.round(metrics.r2_score(y_train, lin_reg_train_pred), 2))\n",
    "\n",
    "print(\"***************** TESTING METRICS *****************\")\n",
    "print(\"MSE: \" , np.round(metrics.mean_squared_error(y_test, lin_reg_test_pred), 2))\n",
    "print(\"MAE: \" , np.round(metrics.mean_absolute_error(y_test, lin_reg_test_pred), 2))\n",
    "print(\"R-Squared: \" , np.round(metrics.r2_score(y_test, lin_reg_test_pred), 2))"
   ]
  },
  {
   "cell_type": "code",
   "execution_count": 50,
   "metadata": {},
   "outputs": [
    {
     "data": {
      "image/png": "[encoded data removed]",
      "text/plain": [
       "<Figure size 432x288 with 1 Axes>"
      ]
     },
     "metadata": {
      "needs_background": "light"
     },
     "output_type": "display_data"
    },
    {
     "data": {
      "image/png": "[encoded data removed]",
      "text/plain": [
       "<Figure size 432x288 with 1 Axes>"
      ]
     },
     "metadata": {
      "needs_background": "light"
     },
     "output_type": "display_data"
    }
   ],
   "source": [
    "residuals = abs(y_test - lin_reg_test_pred)\n",
    "\n",
    "sns.scatterplot(x = y_test, y = residuals)\n",
    "plt.show()\n",
    "# Residuals Kernel Density Plot Random Forest\n",
    "\n",
    "sns.kdeplot(x = residuals, fill = True)\n",
    "plt.xlabel(\"Residual Distribution\")\n",
    "plt.title(\"Residuals\")\n",
    "plt.show()"
   ]
  }
 ],
 "metadata": {
  "colab": {
   "provenance": []
  },
  "kernelspec": {
   "display_name": "Python 3 (ipykernel)",
   "language": "python",
   "name": "python3"
  },
  "language_info": {
   "codemirror_mode": {
    "name": "ipython",
    "version": 3
   },
   "file_extension": ".py",
   "mimetype": "text/x-python",
   "name": "python",
   "nbconvert_exporter": "python",
   "pygments_lexer": "ipython3",
   "version": "3.9.12"
  }
 },
 "nbformat": 4,
 "nbformat_minor": 1
}
